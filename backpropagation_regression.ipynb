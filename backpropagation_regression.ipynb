{
 "cells": [
  {
   "cell_type": "code",
   "id": "initial_id",
   "metadata": {
    "collapsed": true,
    "ExecuteTime": {
     "end_time": "2025-02-02T08:14:09.377077Z",
     "start_time": "2025-02-02T08:14:06.619482Z"
    }
   },
   "source": [
    "import numpy as np\n",
    "import pandas as pd"
   ],
   "outputs": [],
   "execution_count": 1
  },
  {
   "metadata": {
    "ExecuteTime": {
     "end_time": "2025-02-02T08:14:09.431254Z",
     "start_time": "2025-02-02T08:14:09.400587Z"
    }
   },
   "cell_type": "code",
   "source": "df = pd.DataFrame([[8,8,4], [7,9,5],[6,10,6],[5,12,7]], columns=['cgpa','profile_score','lpa'])",
   "id": "f7edfec76a40e249",
   "outputs": [],
   "execution_count": 2
  },
  {
   "metadata": {
    "ExecuteTime": {
     "end_time": "2025-02-02T08:14:10.390327Z",
     "start_time": "2025-02-02T08:14:10.340030Z"
    }
   },
   "cell_type": "code",
   "source": "df",
   "id": "e1be34211521d002",
   "outputs": [
    {
     "data": {
      "text/plain": [
       "   cgpa  profile_score  lpa\n",
       "0     8              8    4\n",
       "1     7              9    5\n",
       "2     6             10    6\n",
       "3     5             12    7"
      ],
      "text/html": [
       "<div>\n",
       "<style scoped>\n",
       "    .dataframe tbody tr th:only-of-type {\n",
       "        vertical-align: middle;\n",
       "    }\n",
       "\n",
       "    .dataframe tbody tr th {\n",
       "        vertical-align: top;\n",
       "    }\n",
       "\n",
       "    .dataframe thead th {\n",
       "        text-align: right;\n",
       "    }\n",
       "</style>\n",
       "<table border=\"1\" class=\"dataframe\">\n",
       "  <thead>\n",
       "    <tr style=\"text-align: right;\">\n",
       "      <th></th>\n",
       "      <th>cgpa</th>\n",
       "      <th>profile_score</th>\n",
       "      <th>lpa</th>\n",
       "    </tr>\n",
       "  </thead>\n",
       "  <tbody>\n",
       "    <tr>\n",
       "      <th>0</th>\n",
       "      <td>8</td>\n",
       "      <td>8</td>\n",
       "      <td>4</td>\n",
       "    </tr>\n",
       "    <tr>\n",
       "      <th>1</th>\n",
       "      <td>7</td>\n",
       "      <td>9</td>\n",
       "      <td>5</td>\n",
       "    </tr>\n",
       "    <tr>\n",
       "      <th>2</th>\n",
       "      <td>6</td>\n",
       "      <td>10</td>\n",
       "      <td>6</td>\n",
       "    </tr>\n",
       "    <tr>\n",
       "      <th>3</th>\n",
       "      <td>5</td>\n",
       "      <td>12</td>\n",
       "      <td>7</td>\n",
       "    </tr>\n",
       "  </tbody>\n",
       "</table>\n",
       "</div>"
      ]
     },
     "execution_count": 3,
     "metadata": {},
     "output_type": "execute_result"
    }
   ],
   "execution_count": 3
  },
  {
   "metadata": {
    "ExecuteTime": {
     "end_time": "2025-02-02T08:14:10.489676Z",
     "start_time": "2025-02-02T08:14:10.482750Z"
    }
   },
   "cell_type": "code",
   "source": [
    "def initialize_parameters(layer_dims):\n",
    "    np.random.seed(3)\n",
    "    parameters = {}\n",
    "    len_ = len(layer_dims)\n",
    "    for l in range(1, len_):\n",
    "        parameters['W' + str(l)] = np.ones((layer_dims[l], layer_dims[l-1])) * 0.1\n",
    "        parameters['b' + str(l)] = np.zeros((layer_dims[l], 1))\n",
    "    return parameters"
   ],
   "id": "89ce988c11927da2",
   "outputs": [],
   "execution_count": 4
  },
  {
   "metadata": {
    "ExecuteTime": {
     "end_time": "2025-02-02T08:14:10.615328Z",
     "start_time": "2025-02-02T08:14:10.547144Z"
    }
   },
   "cell_type": "code",
   "source": "initialize_parameters([2,2,1])",
   "id": "183cdfb8c17a7d3",
   "outputs": [
    {
     "data": {
      "text/plain": [
       "{'W1': array([[0.1, 0.1],\n",
       "        [0.1, 0.1]]),\n",
       " 'b1': array([[0.],\n",
       "        [0.]]),\n",
       " 'W2': array([[0.1, 0.1]]),\n",
       " 'b2': array([[0.]])}"
      ]
     },
     "execution_count": 5,
     "metadata": {},
     "output_type": "execute_result"
    }
   ],
   "execution_count": 5
  },
  {
   "metadata": {
    "ExecuteTime": {
     "end_time": "2025-02-02T08:14:10.737434Z",
     "start_time": "2025-02-02T08:14:10.731482Z"
    }
   },
   "cell_type": "code",
   "source": [
    "def linear_forward(a_prev, w, b):\n",
    "    z = np.dot(w, a_prev) + b\n",
    "    return z"
   ],
   "id": "7cd7cbab77a400f0",
   "outputs": [],
   "execution_count": 6
  },
  {
   "metadata": {
    "ExecuteTime": {
     "end_time": "2025-02-02T08:15:05.874615Z",
     "start_time": "2025-02-02T08:15:05.868438Z"
    }
   },
   "cell_type": "code",
   "source": [
    "def l_layer_forward(x_, params):\n",
    "    a = x_\n",
    "    length = len(params) // 2\n",
    "    a_prev_ = None\n",
    "    for l in range(1, length+1):\n",
    "        a_prev_ = a\n",
    "        w1 = params['W' + str(l)]\n",
    "        b1 = params['b' + str(l)]\n",
    "        # print('A'+ str(l-1) + \": \",a_prev_)\n",
    "        # print('W'+ str(l) + \": \",w1)\n",
    "        # print('B'+ str(l) + \": \",b1)\n",
    "        # print(\"--\"*20)\n",
    "\n",
    "        a = linear_forward(a_prev_, w1, b1)\n",
    "        # print('A'+ str(l) + \": \",a)\n",
    "        # print(\"**\"*20)\n",
    "    return a, a_prev_"
   ],
   "id": "9c97cce8216f033f",
   "outputs": [],
   "execution_count": 11
  },
  {
   "metadata": {
    "ExecuteTime": {
     "end_time": "2025-02-02T08:15:06.469393Z",
     "start_time": "2025-02-02T08:15:06.460483Z"
    }
   },
   "cell_type": "code",
   "source": [
    "def update_parameters(parameters,y_,y_prediction,a1, x_):\n",
    "    learning_rate = 0.001\n",
    "    error = y_ - y_prediction  # Compute error\n",
    "\n",
    "    # Update W2 and b2\n",
    "    parameters['W2'][0,0] += learning_rate * 2 * error * a1[0,0]\n",
    "    parameters['W2'][0,1] += learning_rate * 2 * error * a1[1,0]\n",
    "    parameters['b2'][0,0] += learning_rate * 2 * error  # No reference to W2[1,0]\n",
    "\n",
    "    # Update W1 and b1\n",
    "    parameters['W1'][0,0] += learning_rate * 2 * error * parameters['W2'][0,0] * x_[0,0]\n",
    "    parameters['W1'][0,1] += learning_rate * 2 * error * parameters['W2'][0,0] * x_[1,0]\n",
    "    parameters['b1'][0,0] += learning_rate * 2 * error * parameters['W2'][0,0]\n",
    "\n",
    "    parameters['W1'][1,0] += learning_rate * 2 * error * parameters['W2'][0,1] * x_[0,0]\n",
    "    parameters['W1'][1,1] += learning_rate * 2 * error * parameters['W2'][0,1] * x_[1,0]\n",
    "    parameters['b1'][1,0] += learning_rate * 2 * error * parameters['W2'][0,1]"
   ],
   "id": "d9a88a63a19fd178",
   "outputs": [],
   "execution_count": 12
  },
  {
   "metadata": {
    "ExecuteTime": {
     "end_time": "2025-02-02T08:15:07.155900Z",
     "start_time": "2025-02-02T08:15:07.120818Z"
    }
   },
   "cell_type": "code",
   "source": [
    "# epochs implementation\n",
    "\n",
    "param = initialize_parameters([2,2,1])\n",
    "epochs = 5\n",
    "\n",
    "for i in range(epochs):\n",
    "\n",
    "  Loss = []\n",
    "\n",
    "  for j in range(df.shape[0]):\n",
    "\n",
    "    X = df[['cgpa', 'profile_score']].values[j].reshape(2,1) # Shape(no of features, no. of training example)\n",
    "    y = df[['lpa']].values[j][0]\n",
    "\n",
    "    # Parameter initialization\n",
    "\n",
    "\n",
    "    y_hat,A1 = l_layer_forward(X,param)\n",
    "    y_hat = y_hat[0][0]\n",
    "\n",
    "    update_parameters(param,y,y_hat,A1,X)\n",
    "\n",
    "    Loss.append((y-y_hat)**2)\n",
    "\n",
    "  print('Epoch - ',i+1,'Loss - ',np.array(Loss).mean())\n",
    "\n",
    "param"
   ],
   "id": "a4990132149d3532",
   "outputs": [
    {
     "name": "stdout",
     "output_type": "stream",
     "text": [
      "Epoch -  1 Loss -  26.249691774703265\n",
      "Epoch -  2 Loss -  19.19634375189233\n",
      "Epoch -  3 Loss -  9.702531836210806\n",
      "Epoch -  4 Loss -  3.0274162602080916\n",
      "Epoch -  5 Loss -  1.0597082587765176\n"
     ]
    },
    {
     "data": {
      "text/plain": [
       "{'W1': array([[0.27790431, 0.40579137],\n",
       "        [0.27790431, 0.40579137]]),\n",
       " 'b1': array([[0.0295198],\n",
       "        [0.0295198]]),\n",
       " 'W2': array([[0.46411039, 0.46411039]]),\n",
       " 'b2': array([[0.11664796]])}"
      ]
     },
     "execution_count": 13,
     "metadata": {},
     "output_type": "execute_result"
    }
   ],
   "execution_count": 13
  }
 ],
 "metadata": {
  "kernelspec": {
   "display_name": "Python 3",
   "language": "python",
   "name": "python3"
  },
  "language_info": {
   "codemirror_mode": {
    "name": "ipython",
    "version": 2
   },
   "file_extension": ".py",
   "mimetype": "text/x-python",
   "name": "python",
   "nbconvert_exporter": "python",
   "pygments_lexer": "ipython2",
   "version": "2.7.6"
  }
 },
 "nbformat": 4,
 "nbformat_minor": 5
}
