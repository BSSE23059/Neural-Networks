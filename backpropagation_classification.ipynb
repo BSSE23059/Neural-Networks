{
 "cells": [
  {
   "cell_type": "code",
   "id": "initial_id",
   "metadata": {
    "collapsed": true,
    "ExecuteTime": {
     "end_time": "2025-02-02T10:49:26.122446Z",
     "start_time": "2025-02-02T10:49:25.358792Z"
    }
   },
   "source": [
    "import numpy as np\n",
    "import pandas as pd"
   ],
   "outputs": [],
   "execution_count": 1
  },
  {
   "metadata": {
    "ExecuteTime": {
     "end_time": "2025-02-02T12:43:48.679547Z",
     "start_time": "2025-02-02T12:43:48.672985Z"
    }
   },
   "cell_type": "code",
   "source": "df = pd.DataFrame([[8,8,1],[7,9,1],[6,10,0],[5,5,0]], columns=['cgpa','profile_score','lpa'])",
   "id": "561f3b711a3efc0a",
   "outputs": [],
   "execution_count": 50
  },
  {
   "metadata": {
    "ExecuteTime": {
     "end_time": "2025-02-02T12:43:49.167492Z",
     "start_time": "2025-02-02T12:43:49.157846Z"
    }
   },
   "cell_type": "code",
   "source": "df",
   "id": "4a23fd28589a6406",
   "outputs": [
    {
     "data": {
      "text/plain": [
       "   cgpa  profile_score  lpa\n",
       "0     8              8    1\n",
       "1     7              9    1\n",
       "2     6             10    0\n",
       "3     5              5    0"
      ],
      "text/html": [
       "<div>\n",
       "<style scoped>\n",
       "    .dataframe tbody tr th:only-of-type {\n",
       "        vertical-align: middle;\n",
       "    }\n",
       "\n",
       "    .dataframe tbody tr th {\n",
       "        vertical-align: top;\n",
       "    }\n",
       "\n",
       "    .dataframe thead th {\n",
       "        text-align: right;\n",
       "    }\n",
       "</style>\n",
       "<table border=\"1\" class=\"dataframe\">\n",
       "  <thead>\n",
       "    <tr style=\"text-align: right;\">\n",
       "      <th></th>\n",
       "      <th>cgpa</th>\n",
       "      <th>profile_score</th>\n",
       "      <th>lpa</th>\n",
       "    </tr>\n",
       "  </thead>\n",
       "  <tbody>\n",
       "    <tr>\n",
       "      <th>0</th>\n",
       "      <td>8</td>\n",
       "      <td>8</td>\n",
       "      <td>1</td>\n",
       "    </tr>\n",
       "    <tr>\n",
       "      <th>1</th>\n",
       "      <td>7</td>\n",
       "      <td>9</td>\n",
       "      <td>1</td>\n",
       "    </tr>\n",
       "    <tr>\n",
       "      <th>2</th>\n",
       "      <td>6</td>\n",
       "      <td>10</td>\n",
       "      <td>0</td>\n",
       "    </tr>\n",
       "    <tr>\n",
       "      <th>3</th>\n",
       "      <td>5</td>\n",
       "      <td>5</td>\n",
       "      <td>0</td>\n",
       "    </tr>\n",
       "  </tbody>\n",
       "</table>\n",
       "</div>"
      ]
     },
     "execution_count": 51,
     "metadata": {},
     "output_type": "execute_result"
    }
   ],
   "execution_count": 51
  },
  {
   "metadata": {
    "ExecuteTime": {
     "end_time": "2025-02-02T12:43:49.682617Z",
     "start_time": "2025-02-02T12:43:49.675886Z"
    }
   },
   "cell_type": "code",
   "source": [
    "def initialize_parameters(layer_dims):\n",
    "    np.random.seed(3)\n",
    "    parameters = {}\n",
    "    len_ = len(layer_dims)\n",
    "    for l in range(1, len_):\n",
    "        parameters['W' + str(l)] = np.ones((layer_dims[l], layer_dims[l-1])) * 0.1\n",
    "        parameters['b' + str(l)] = np.zeros((layer_dims[l], 1))\n",
    "    return parameters"
   ],
   "id": "6e483690fe097f6e",
   "outputs": [],
   "execution_count": 52
  },
  {
   "metadata": {
    "ExecuteTime": {
     "end_time": "2025-02-02T12:43:50.262218Z",
     "start_time": "2025-02-02T12:43:50.257072Z"
    }
   },
   "cell_type": "code",
   "source": [
    "def sigmoid(z):\n",
    "  a = 1/(1+np.exp(-z))\n",
    "  return a"
   ],
   "id": "f1342e8f06fe3358",
   "outputs": [],
   "execution_count": 53
  },
  {
   "metadata": {
    "ExecuteTime": {
     "end_time": "2025-02-02T12:43:50.777829Z",
     "start_time": "2025-02-02T12:43:50.772187Z"
    }
   },
   "cell_type": "code",
   "source": [
    "def linear_forward(a_prev, w, b):\n",
    "    z = np.dot(w, a_prev) + b\n",
    "    a = sigmoid(z)\n",
    "    return a"
   ],
   "id": "2321b990bc43a510",
   "outputs": [],
   "execution_count": 54
  },
  {
   "metadata": {
    "ExecuteTime": {
     "end_time": "2025-02-02T12:43:51.321396Z",
     "start_time": "2025-02-02T12:43:51.315108Z"
    }
   },
   "cell_type": "code",
   "source": [
    "def l_layer_forward(x_, params):\n",
    "    a = x_\n",
    "    length = len(params) // 2\n",
    "    a_prev_ = None\n",
    "    for l in range(1, length+1):\n",
    "        a_prev_ = a\n",
    "        w1 = params['W' + str(l)]\n",
    "        b1 = params['b' + str(l)]\n",
    "        # print('A'+ str(l-1) + \": \",a_prev_)\n",
    "        # print('W'+ str(l) + \": \",w1)\n",
    "        # print('B'+ str(l) + \": \",b1)\n",
    "        # print(\"--\"*20)\n",
    "\n",
    "        a = linear_forward(a_prev_, w1, b1)\n",
    "        # print('A'+ str(l) + \": \",a)\n",
    "        # print(\"**\"*20)\n",
    "    return a, a_prev_"
   ],
   "id": "b2bd7e193451f0dd",
   "outputs": [],
   "execution_count": 55
  },
  {
   "metadata": {
    "ExecuteTime": {
     "end_time": "2025-02-02T12:43:51.900536Z",
     "start_time": "2025-02-02T12:43:51.890184Z"
    }
   },
   "cell_type": "code",
   "source": [
    "def update_parameters(parameters,y_,y_prediction,a1, x_):\n",
    "    learning_rate = 0.001\n",
    "\n",
    "    error = y_ - y_prediction\n",
    "\n",
    "    # Update W2 and b2\n",
    "    parameters['W2'][0,0] += learning_rate * error * a1[0,0]\n",
    "    parameters['W2'][0,1] += learning_rate * error * a1[1,0]\n",
    "    parameters['b2'][0,0] += learning_rate * error\n",
    "\n",
    "    # Update W1 and b1\n",
    "    parameters['W1'][0,0] += learning_rate * error * parameters['W2'][0,0] * a1[0,0]*(1-a1[0,0]) * x_[0,0]\n",
    "    parameters['W1'][0,1] += learning_rate * error * parameters['W2'][0,0] * a1[0,0]*(1-a1[0,0]) * x_[1,0]\n",
    "    parameters['b1'][0,0] += learning_rate * error * parameters['W2'][0,0] * a1[0,0]*(1-a1[0,0])\n",
    "\n",
    "    parameters['W1'][1,0] += learning_rate * error * parameters['W2'][0,1] * a1[1,0]*(1-a1[1,0]) * x_[0,0]\n",
    "    parameters['W1'][1,1] += learning_rate * error * parameters['W2'][0,1] * a1[1,0]*(1-a1[1,0]) * x_[1,0]\n",
    "    parameters['b1'][1,0] += learning_rate * error * parameters['W2'][0,1] * a1[1,0]*(1-a1[0,0])"
   ],
   "id": "7c1f73109c581caf",
   "outputs": [],
   "execution_count": 56
  },
  {
   "metadata": {
    "ExecuteTime": {
     "end_time": "2025-02-02T12:43:52.679027Z",
     "start_time": "2025-02-02T12:43:52.467851Z"
    }
   },
   "cell_type": "code",
   "source": [
    "# epochs implementation\n",
    "\n",
    "param = initialize_parameters([2,2,1])\n",
    "epochs = 50\n",
    "\n",
    "for i in range(epochs):\n",
    "\n",
    "  Loss = []\n",
    "\n",
    "  for j in range(df.shape[0]):\n",
    "\n",
    "    X = df[['cgpa', 'profile_score']].values[j].reshape(2,1) # Shape(no of features, no. of training example)\n",
    "    y = df[['lpa']].values[j][0]\n",
    "\n",
    "    # Parameter initialization\n",
    "\n",
    "\n",
    "    y_hat,A1 = l_layer_forward(X,param)\n",
    "    y_hat = y_hat[0][0]\n",
    "\n",
    "    update_parameters(param,y,y_hat,A1,X)\n",
    "\n",
    "    Loss.append(-y*np.log(y_hat) - (1-y)*np.log(1-y_hat))\n",
    "\n",
    "  print('Epoch - ',i+1,'Loss - ',np.array(Loss).mean())\n",
    "\n",
    "param"
   ],
   "id": "78b008eba8264bf0",
   "outputs": [
    {
     "name": "stdout",
     "output_type": "stream",
     "text": [
      "Epoch -  1 Loss -  0.694171839486429\n",
      "Epoch -  2 Loss -  0.694161904840806\n",
      "Epoch -  3 Loss -  0.6941520144899247\n",
      "Epoch -  4 Loss -  0.6941421682203772\n",
      "Epoch -  5 Loss -  0.694132365819813\n",
      "Epoch -  6 Loss -  0.6941226070769339\n",
      "Epoch -  7 Loss -  0.694112891781488\n",
      "Epoch -  8 Loss -  0.694103219724265\n",
      "Epoch -  9 Loss -  0.6940935906970904\n",
      "Epoch -  10 Loss -  0.6940840044928196\n",
      "Epoch -  11 Loss -  0.6940744609053333\n",
      "Epoch -  12 Loss -  0.6940649597295327\n",
      "Epoch -  13 Loss -  0.6940555007613325\n",
      "Epoch -  14 Loss -  0.6940460837976571\n",
      "Epoch -  15 Loss -  0.6940367086364353\n",
      "Epoch -  16 Loss -  0.6940273750765941\n",
      "Epoch -  17 Loss -  0.6940180829180547\n",
      "Epoch -  18 Loss -  0.6940088319617271\n",
      "Epoch -  19 Loss -  0.6939996220095042\n",
      "Epoch -  20 Loss -  0.6939904528642574\n",
      "Epoch -  21 Loss -  0.693981324329832\n",
      "Epoch -  22 Loss -  0.6939722362110411\n",
      "Epoch -  23 Loss -  0.6939631883136614\n",
      "Epoch -  24 Loss -  0.6939541804444279\n",
      "Epoch -  25 Loss -  0.6939452124110292\n",
      "Epoch -  26 Loss -  0.6939362840221022\n",
      "Epoch -  27 Loss -  0.6939273950872278\n",
      "Epoch -  28 Loss -  0.6939185454169254\n",
      "Epoch -  29 Loss -  0.6939097348226486\n",
      "Epoch -  30 Loss -  0.6939009631167802\n",
      "Epoch -  31 Loss -  0.6938922301126267\n",
      "Epoch -  32 Loss -  0.6938835356244155\n",
      "Epoch -  33 Loss -  0.6938748794672878\n",
      "Epoch -  34 Loss -  0.6938662614572958\n",
      "Epoch -  35 Loss -  0.6938576814113965\n",
      "Epoch -  36 Loss -  0.6938491391474488\n",
      "Epoch -  37 Loss -  0.6938406344842065\n",
      "Epoch -  38 Loss -  0.6938321672413168\n",
      "Epoch -  39 Loss -  0.6938237372393123\n",
      "Epoch -  40 Loss -  0.6938153442996093\n",
      "Epoch -  41 Loss -  0.6938069882445017\n",
      "Epoch -  42 Loss -  0.6937986688971574\n",
      "Epoch -  43 Loss -  0.6937903860816121\n",
      "Epoch -  44 Loss -  0.6937821396227679\n",
      "Epoch -  45 Loss -  0.6937739293463856\n",
      "Epoch -  46 Loss -  0.6937657550790826\n",
      "Epoch -  47 Loss -  0.6937576166483271\n",
      "Epoch -  48 Loss -  0.6937495138824352\n",
      "Epoch -  49 Loss -  0.6937414466105651\n",
      "Epoch -  50 Loss -  0.6937334146627137\n"
     ]
    },
    {
     "data": {
      "text/plain": [
       "{'W1': array([[0.0999558 , 0.09910333],\n",
       "        [0.0999558 , 0.09910333]]),\n",
       " 'b1': array([[-0.00025236],\n",
       "        [-0.00025236]]),\n",
       " 'W2': array([[0.09624795, 0.09624795]]),\n",
       " 'b2': array([[-0.00775399]])}"
      ]
     },
     "execution_count": 57,
     "metadata": {},
     "output_type": "execute_result"
    }
   ],
   "execution_count": 57
  }
 ],
 "metadata": {
  "kernelspec": {
   "display_name": "Python 3",
   "language": "python",
   "name": "python3"
  },
  "language_info": {
   "codemirror_mode": {
    "name": "ipython",
    "version": 2
   },
   "file_extension": ".py",
   "mimetype": "text/x-python",
   "name": "python",
   "nbconvert_exporter": "python",
   "pygments_lexer": "ipython2",
   "version": "2.7.6"
  }
 },
 "nbformat": 4,
 "nbformat_minor": 5
}
